{
 "cells": [
  {
   "cell_type": "code",
   "execution_count": 1,
   "metadata": {},
   "outputs": [],
   "source": [
    "import re\n",
    "from datetime import date\n",
    "import pandas as pd\n",
    "\n",
    "INPUT_FOLDER = 'results'\n",
    "\n",
    "with open('ISM_report.md') as f:\n",
    "    report = f.read()\n",
    "\n",
    "part1, part2, part3, part4 = report.split('\\n<!--- dividing line --->\\n')\n",
    "\n",
    "today = date.today()\n",
    "today = 'Report created on {}'.format(today.strftime(\"%Y/%m/%d\"))\n",
    "part1 = re.sub(r'Report created on [0-9|/]+', today.rstrip(), part1.rstrip())\n",
    "\n",
    "covary_df = pd.read_csv('{}/ISM_covary_groups.txt'.format(INPUT_FOLDER))\n",
    "html_covary_table = covary_df.to_html(justify='right',index=False)\n",
    "covary_table = '<!--- covarying table starts --->\\n{}\\n<!--- covarying table ends --->'.format(html_covary_table)\n",
    "part2 = re.sub(r'<!--- covarying table starts --->.*?<!--- covarying table ends --->', \n",
    "               covary_table.rstrip(), part2.rstrip(), flags=re.DOTALL)\n",
    "\n",
    "annotation_df = pd.read_csv('{}/ISM_annotation.txt'.format(INPUT_FOLDER))\n",
    "html_annotation_table = annotation_df.to_html(justify='right',index=False)\n",
    "annotation_table = '<!--- annotation table starts --->\\n{}\\n<!--- annotation table ends --->'.format(html_annotation_table)\n",
    "part3 = re.sub(r'<!--- annotation table starts --->.*?<!--- annotation table ends --->', \n",
    "               annotation_table.rstrip(), part3.rstrip(), flags=re.DOTALL)\n",
    "\n",
    "report = '\\n<!--- dividing line --->\\n'.join([part1, part2, part3, part4])\n",
    "with open('ISM_report.md', 'w+') as f:\n",
    "    f.write(report)"
   ]
  },
  {
   "cell_type": "code",
   "execution_count": null,
   "metadata": {},
   "outputs": [],
   "source": []
  }
 ],
 "metadata": {
  "anaconda-cloud": {},
  "kernelspec": {
   "display_name": "Python [default]",
   "language": "python",
   "name": "python3"
  },
  "language_info": {
   "codemirror_mode": {
    "name": "ipython",
    "version": 3
   },
   "file_extension": ".py",
   "mimetype": "text/x-python",
   "name": "python",
   "nbconvert_exporter": "python",
   "pygments_lexer": "ipython3",
   "version": "3.5.4"
  }
 },
 "nbformat": 4,
 "nbformat_minor": 2
}
